{
 "cells": [
  {
   "cell_type": "markdown",
   "metadata": {},
   "source": [
    "# Project 2: Sequence Alignment and Phylogeny"
   ]
  },
  {
   "cell_type": "markdown",
   "metadata": {},
   "source": [
    "\n",
    "   <div class=\"alert alert-block alert-danger\">\n",
    "    <center>Due: <b>Wednesday, 21 September, 8:59pm</b>.</center> \n",
    "   </div>\n",
    "   \n",
    "   <div class=\"alert alert-block alert-warning\">\n",
    "   <center>\n",
    "       <b>Collaboration and Resource Policy</b>\n",
    "    </center>\n",
    "    For this assignment, you are encouraged to work with one other person. Your team must satisfy these constraints:\n",
    "    \n",
    "   1. You **did not work together on Project 1**.\n",
    "   2. You and your partner have a **total number of siblings that is divisible by two** (e.g., if you have one sibling, you need to find a partner with 1, 3, 5, or 7 siblings. If anyone has more than 7 siblings, they can partner with anyone!)\n",
    "    \n",
    "We expect most students will have the best learning experience on this assignment by working with a partner, but if you prefer to work alone it is permissible to do this assignment on your own.\n",
    "    \n",
    "You are encouraged to discuss these problems with anyone you want, including other students in the class. If you do discuss the specific questions in the assignment with anyone other than your assignment partner and the course staff, though, you should list them in the _External resources used_ section below.\n",
    "    \n",
    "You are welcome to use any resources you want for this assignment, other than ones that would defeat the purpose of the assignment. This means you should not look at answers or code from any other students in the class (other than your collaboration with your partner) or from previous offerings of this course, and if you find code that implements the problem you are being asked to do for the assignment, you should not use that code. \n",
    "\n",
    "You should document all external resource you use that are not part of the course materials in the _External resources used_ section below.\n",
    "    </div>"
   ]
  },
  {
   "cell_type": "markdown",
   "metadata": {},
   "source": [
    "**Team submitting this assignment:**  \n",
    "<div class=\"alert alert-success\">\n",
    "    <b><em>list each member of your team here, including both your name and UVA computing id</em></b>\n",
    "</div>\n",
    "\n",
    "**External resources used:** \n",
    "<div class=\"alert alert-success\">\n",
    "<em>It is not necessary to list the course materials, but if you used any other resources, including discussing problems with students not on your team, list them here.</em>\n",
    "</div>"
   ]
  },
  {
   "cell_type": "markdown",
   "metadata": {},
   "source": [
    " <div class=\"alert alert-block alert-warning\">\n",
    "    \n",
    "<b>Submission</b>: Please submit the code you wrote to generate your answers for all parts using this form: https://forms.gle/gv144kv3KRo67uUX7. Your answers should be in the Jupyter Notebook, along with your code. Before submission, you should make a copy of your notebook file with the name uvaid1\\_uvaid2.ipynb (where uvaidn is each teammates UVA id) so the submitted file identifies you. You and your partner should submit a single file once together. Submission is due 8:59 pm on Wednesday, 21 September."
   ]
  },
  {
   "cell_type": "markdown",
   "metadata": {},
   "source": [
    "## Getting Started"
   ]
  },
  {
   "cell_type": "markdown",
   "metadata": {},
   "source": [
    "Install basic required packages, should be run only once. You may need to restart the jupyter python kernel (under the Kernel menu) after this. (You can execute this directly in the notebook but running the command below.)"
   ]
  },
  {
   "cell_type": "code",
   "execution_count": 6,
   "metadata": {},
   "outputs": [
    {
     "name": "stdout",
     "output_type": "stream",
     "text": [
      "Collecting git+https://github.com/iamgroot42/blosum.git (from -r requirements.txt (line 1))\n",
      "  Cloning https://github.com/iamgroot42/blosum.git to /private/var/folders/_8/n42my_f903731_w_66lz__zr0000gn/T/pip-req-build-hltskyl6\n",
      "  Running command git clone --filter=blob:none --quiet https://github.com/iamgroot42/blosum.git /private/var/folders/_8/n42my_f903731_w_66lz__zr0000gn/T/pip-req-build-hltskyl6\n",
      "  Resolved https://github.com/iamgroot42/blosum.git to commit 433ed2f1b55fa010ad1b4b2a84158c1f38ddeaf6\n",
      "  Installing build dependencies ... \u001b[?25ldone\n",
      "\u001b[?25h  Getting requirements to build wheel ... \u001b[?25ldone\n",
      "\u001b[?25h  Preparing metadata (pyproject.toml) ... \u001b[?25ldone\n",
      "\u001b[?25hRequirement already satisfied: biopython in /Users/keivonchamanara/opt/anaconda3/lib/python3.8/site-packages (from -r requirements.txt (line 2)) (1.79)\n",
      "Requirement already satisfied: tqdm in /Users/keivonchamanara/opt/anaconda3/lib/python3.8/site-packages (from -r requirements.txt (line 3)) (4.47.0)\n",
      "Requirement already satisfied: networkx in /Users/keivonchamanara/opt/anaconda3/lib/python3.8/site-packages (from -r requirements.txt (line 4)) (2.4)\n",
      "Requirement already satisfied: pokemons in /Users/keivonchamanara/opt/anaconda3/lib/python3.8/site-packages (from -r requirements.txt (line 5)) (1.0.3)\n",
      "Requirement already satisfied: numpy in /Users/keivonchamanara/opt/anaconda3/lib/python3.8/site-packages (from biopython->-r requirements.txt (line 2)) (1.18.5)\n",
      "Requirement already satisfied: decorator>=4.3.0 in /Users/keivonchamanara/opt/anaconda3/lib/python3.8/site-packages (from networkx->-r requirements.txt (line 4)) (4.4.2)\n",
      "Note: you may need to restart the kernel to use updated packages.\n"
     ]
    }
   ],
   "source": [
    "%pip install -r requirements.txt"
   ]
  },
  {
   "cell_type": "code",
   "execution_count": 7,
   "metadata": {},
   "outputs": [],
   "source": [
    "import numpy as np\n",
    "import blosum as bl\n",
    "import networkx as nx\n",
    "import matplotlib.pyplot as plt\n",
    "import utils\n",
    "from itertools import chain"
   ]
  },
  {
   "cell_type": "markdown",
   "metadata": {},
   "source": [
    "## Part 1: Global Sequence Alignment"
   ]
  },
  {
   "cell_type": "markdown",
   "metadata": {},
   "source": [
    "Below we provide the sequence alignment code from [Class 6](https://computingbiology.github.io/class6/). You are welcome to use and modify this code however you want in your solution, but should answer the questions below based on this provided code."
   ]
  },
  {
   "cell_type": "code",
   "execution_count": 8,
   "metadata": {},
   "outputs": [],
   "source": [
    "def simpleMatch(a, b):\n",
    "    return 1 if a == b else -1\n",
    "\n",
    "def distanceMatch(a, b):\n",
    "    return 0 if a == b else -1\n",
    "\n",
    "def linearGap(n):\n",
    "    return -1 * n\n",
    "\n",
    "def alignmentScore(s1, s2, gapPenalty, match):\n",
    "    if not s1 or not s2:\n",
    "        return gapPenalty(len(s1)) + gapPenalty(len(s2))\n",
    "    else:\n",
    "        return max(gapPenalty(1) + alignmentScore(s1, s2[1:], gapPenalty, match), \n",
    "                   gapPenalty(1) + alignmentScore(s1[1:], s2, gapPenalty, match),\n",
    "                   match(s1[0], s2[0]) + alignmentScore(s1[1:], s2[1:], gapPenalty, match)) "
   ]
  },
  {
   "cell_type": "code",
   "execution_count": 9,
   "metadata": {},
   "outputs": [],
   "source": [
    "def alignmentScoreDP(s1, s2, gapPenalty, match):\n",
    "    m = np.zeros((len(s1) + 1, len(s2) + 1))\n",
    "    m[0, 0] = 0\n",
    "    for i in range(1, len(s1) + 1):\n",
    "        m[i, 0] = gapPenalty(i)\n",
    "    for j in range(1, len(s2) + 1):\n",
    "        m[0, j] = gapPenalty(j)\n",
    "    for i in range(1, len(s1) + 1):\n",
    "        for j in range(1, len(s2) + 1):\n",
    "            m[i, j] = max(gapPenalty(1) + m[i, j - 1],  \n",
    "                          gapPenalty(1) + m[i - 1, j],    \n",
    "                          match(s1[i - 1], s2[j - 1]) + m[i - 1, j - 1]) \n",
    "    return m\n",
    "    \n",
    "def readAlignment(s1, s2, m, gapPenalty, match):\n",
    "    i = len(s1)\n",
    "    j = len(s2)\n",
    "    s1a = \"\"\n",
    "    s2a = \"\" \n",
    "    score = 0\n",
    "    while i > 0 or j > 0:\n",
    "        if i > 0 and j > 0 and m[i, j] == m[i - 1, j - 1] + match(s1[i - 1], s2[j - 1]):\n",
    "            i = i - 1\n",
    "            j = j - 1\n",
    "            score += match(s1[i], s2[j])\n",
    "            s1a = s1[i] + s1a\n",
    "            if s1[i] == s2[j]:\n",
    "                s2a = s2[j] + s2a\n",
    "            else:\n",
    "                s2a = s2[j].lower() + s2a\n",
    "        elif i > 0 and m[i, j] == m[i - 1, j] + gapPenalty(1):\n",
    "            i = i - 1\n",
    "            score += gapPenalty(1)\n",
    "            s1a = s1[i] + s1a\n",
    "            s2a = '-' + s2a\n",
    "        elif j > 0 and m[i, j] == m[i, j - 1] + gapPenalty(1):\n",
    "            j = j - 1\n",
    "            score += gapPenalty(1)\n",
    "            s1a = '-' + s1a\n",
    "            s2a = s2[j] + s2a\n",
    "        else:\n",
    "            assert False\n",
    "    return (s1a, s2a, score)\n",
    "\n",
    "def showAlignment(s1, s2, gapPenalty, match):\n",
    "    m = alignmentScoreDP(s1, s2, gapPenalty, match)\n",
    "    r = readAlignment(s1, s2, m, gapPenalty, match)\n",
    "    print (r[0] + \"\\n\" + r[1] + \"\\n\" + str(r[2]))\n",
    "    return (m, r)"
   ]
  },
  {
   "cell_type": "code",
   "execution_count": 10,
   "metadata": {},
   "outputs": [
    {
     "name": "stdout",
     "output_type": "stream",
     "text": [
      "G-ATT\n",
      "GCA-T\n",
      "1\n"
     ]
    }
   ],
   "source": [
    "# Example\n",
    "r = showAlignment(\"GATT\", \"GCAT\", linearGap, simpleMatch)"
   ]
  },
  {
   "cell_type": "markdown",
   "metadata": {},
   "source": [
    "Here's the version that supports affine gap penalties (from Class 6):"
   ]
  },
  {
   "cell_type": "code",
   "execution_count": 11,
   "metadata": {},
   "outputs": [],
   "source": [
    "def alignmentScoreDPG(s1, s2, gapPenalty, match):\n",
    "    m = np.zeros((len(s1) + 1, len(s2) + 1))\n",
    "    m[0, 0] = 0\n",
    "    for i in range(1, len(s1) + 1):\n",
    "        m[i, 0] = gapPenalty(i)\n",
    "    for j in range(1, len(s2) + 1):\n",
    "        m[0, j] = gapPenalty(j)\n",
    "    for i in range(1, len(s1) + 1):\n",
    "        for j in range(1, len(s2) + 1):         \n",
    "            m[i, j] = max(chain((gapPenalty(g) + m[i, j - g] for g in range(1, j + 1)),\n",
    "                                (gapPenalty(g) + m[i - g, j] for g in range(1, i + 1)),   \n",
    "                                [(match(s1[i - 1], s2[j - 1]) + m[i - 1, j - 1])]))\n",
    "    return m\n",
    "    \n",
    "def readAlignmentG(s1, s2, m, gapPenalty, match):\n",
    "    i = len(s1)\n",
    "    j = len(s2)\n",
    "    s1a = \"\"\n",
    "    s2a = \"\"\n",
    "    score = 0\n",
    "    while i > 0 or j > 0:\n",
    "        if i > 0 and j > 0 and m[i, j] == m[i - 1, j - 1] + match(s1[i - 1], s2[j - 1]):\n",
    "            i = i - 1\n",
    "            j = j - 1\n",
    "            s1a = s1[i] + s1a\n",
    "            s2a = (s2[j] if s1[i] == s2[j] else s2[j].lower()) + s2a\n",
    "            score += match(s1[i], s2[j])\n",
    "        else:\n",
    "            foundit = False\n",
    "            for g in range(1, i + 1):\n",
    "                if m[i, j] == m[i - g, j] + gapPenalty(g):\n",
    "                    s1a = s1[i - g:i] + s1a\n",
    "                    s2a = ('-' * g) + s2a\n",
    "                    i = i - g\n",
    "                    score += gapPenalty(g)\n",
    "                    foundit = True\n",
    "                    break\n",
    "            if not foundit:\n",
    "                for g in range(1, j + 1):\n",
    "                    if m[i, j] == m[i, j - g] + gapPenalty(g):\n",
    "                        s1a = ('-' * g) + s1a\n",
    "                        s2a = s2[j - g:j] + s2a\n",
    "                        j = j - g\n",
    "                        score += gapPenalty(g)\n",
    "                        foundit = True\n",
    "                        break\n",
    "            assert foundit\n",
    "    return (s1a, s2a, score)\n",
    "\n",
    "def showAlignmentG(s1, s2, gapPenalty, match):\n",
    "    m = alignmentScoreDPG(s1, s2, gapPenalty, match)\n",
    "    r = readAlignmentG(s1, s2, m, gapPenalty, match)\n",
    "    print (r[0] + \"\\n\" + r[1] + \"\\n\" + str(r[2]))\n",
    "    return (m, r)"
   ]
  },
  {
   "cell_type": "code",
   "execution_count": 12,
   "metadata": {},
   "outputs": [],
   "source": [
    "def affineGap(n, gp = -1, gn = -0.2):\n",
    "    return gp + (n - 1) * gn"
   ]
  },
  {
   "cell_type": "code",
   "execution_count": 26,
   "metadata": {},
   "outputs": [],
   "source": [
    "def affineGap1(n, gp = -0.2, gn = -0.2):\n",
    "    return gp + (n - 1) * gn\n",
    "def affineGap2(n, gp = -0.1, gn = -0.2):\n",
    "    return gp + (n - 1) * gn"
   ]
  },
  {
   "cell_type": "code",
   "execution_count": 27,
   "metadata": {},
   "outputs": [
    {
     "name": "stdout",
     "output_type": "stream",
     "text": [
      "AAAGAATTCA\n",
      "AAA----TCA\n",
      "4.4\n"
     ]
    }
   ],
   "source": [
    "# Example\n",
    "s1 = \"AAAGAATTCA\"\n",
    "s2 = \"AAATCA\"\n",
    "r = showAlignmentG(s1, s2, affineGap, simpleMatch)"
   ]
  },
  {
   "cell_type": "markdown",
   "metadata": {},
   "source": [
    "<div class=\"alert alert-success\">\n",
    "\n",
    "**Problem 1 (a).** Run the given algorithm to find a global sequence alignment for the OCA2 genes (a key gene for the production of melanin) for humans and mice with the following gap penalties (still using simpleMatch as the match score function):\n",
    "\n",
    "  a. `linearGap` penalty\n",
    "    \n",
    "  b. `affineGap` penalty, with $gp=-0.2$\n",
    "\n",
    "  c. `affineGap` penalty, with $gp=-0.1$\n",
    "    \n",
    "</div>\n"
   ]
  },
  {
   "cell_type": "code",
   "execution_count": 28,
   "metadata": {},
   "outputs": [],
   "source": [
    "human_oca2, mouse_oca2 = utils.load_oca2_sequences()"
   ]
  },
  {
   "cell_type": "code",
   "execution_count": 29,
   "metadata": {},
   "outputs": [
    {
     "name": "stdout",
     "output_type": "stream",
     "text": [
      "linearGap:\n",
      "-GTTCT--TACTTCGAAG-GCTGTGCTCCG----CTCACCATCCAGAGCGGAGGTGCGGACC-T-TA-AACTCA-CTCC--TGGA----GA-A--AGATCTGCAAGTGC-GCAGAGAGAAGACTGGCAGTGGAGCATGCATCTGGAGGGCAGAGACGGC-A-GGCGGTACCCCGGCGCGCCGGCG-GTGGAGCTCCTGCAGACGTCCGTGCC-CAGCGGACTCGCT-GAACTTGTGGC--CGGCA-AGC\n",
      "CccTCTGGggCTgC-AAGTGC-cTGCTgaGAAATCTtA-CA-CC--AG-GGttGTGC--tCCATCcACgACTCAGagCCTTTGGATCTGGACACTAGA-CTtC-AcTGCTG--GAGAG-AGA-T--CAG-cGAG--T-CATC---A-GaCAGA-tCaGCAACGG-GG-A--CatGCGC-CtaGaGAacaaAG-aCaT-CAG--G-CtG-GCCTCAGCcG--T-GCTGGAAgTaG-aGCTACacCAGA-C\n",
      "25\n",
      "affineGap (gp = -0.2):\n",
      "---------G-T-----T-C-T--T---A---CTT-CGA--A-GG-CTGTGCTCC--GCTCAC--CATCCAGAG-C---GGAGGTGC-GGAC-CTTAA-AC-TCACT-CCTGGAGA-AAGATC-TGC-AAGTGC--GCAGA-GAGA--AG--ACTGGCAGTGGAGCAT--GCATCT-G-G-AGGGC-AGAGAC--GGCAGGC-GGTACCC-C-GGCGCG-CCGGCGGTGG-AGCTCCTGCAGACGTCCGTGCCCAGCGGACTCGCTGAACTTGTGGCCGGCAAGC\n",
      "CCCTCTGGGGCTGCAAGTGCCTGCTGAGAAATCTTAC-ACCAGGGT-TGTGCTCCAT-C-CACGAC-T-CAGAGCCTTTGGA--T-CTGGACACT--AGACTTCACTG-CTGGAGAG-AGATCA-GCG-AGT-CAT-CAGAC-AGATCAGCAAC-G---G-GGA-CATGCGC--CTAGAGAA---CAA-AGACAT--CAGGCTGG---CCTCA-GC-CGT---GC--TGGAAG----T--AGA-G--C-T----A-C--AC---C---A---------G---A-C\n",
      "112.1999999999998\n",
      "affineGap (gp = -0.1):\n",
      "------G----T-----T--CT--T-A-----CTT-CGA--A-GG-CTGTGCTCC--GCTCAC--CATCCAGAG-C---GGAGGTGC-GGAC-CTTA-AAC-TCACT-CCTGGAGA-AAGATC-TGC-AAGTGC--GCAGA-GAGA--AG--ACTGGCAGTGGAGCAT--GCATCT-G-G-AGGGC-AGAGAC--GGCAGGC-GGTACC-C-CGGCGCG-CCGGCGGTGG-AGCTCCTGCAGACGTCCGTGCCCAGCGGACTCGCTGAACTTGTGGCCGGCAAGC\n",
      "CCCTCTGGGGCTGCAAGTGCCTGCTGAGAAATCTTAC-ACCAGGGT-TGTGCTCCAT-C-CACGAC-T-CAGAGCCTTTGGA--T-CTGGACAC-TAG-ACTTCACTG-CTGGAGAG-AGATCA-GCG-AGT-CAT-CAGAC-AGATCAGCAAC--G--G-GGA-CATGCGC--CTAGAGAA---CAA-AGACAT--CAGGCTGG--CCTCA--GC-CGT---GC--TGGAAG----T--AGA-G--C-T----A-C--A--C-C---A----------G--A-C\n",
      "126.10000000000025\n"
     ]
    }
   ],
   "source": [
    "# Your code here\n",
    "# a.\n",
    "print(\"linearGap:\")\n",
    "lg = showAlignment(human_oca2, mouse_oca2, linearGap, simpleMatch)\n",
    "\n",
    "# b.\n",
    "print(\"affineGap (gp = -0.2):\")\n",
    "ag1 = showAlignmentG(human_oca2, mouse_oca2, affineGap1, simpleMatch)\n",
    "\n",
    "# c.\n",
    "print(\"affineGap (gp = -0.1):\")\n",
    "ag2 = showAlignmentG(human_oca2, mouse_oca2, affineGap2, simpleMatch)"
   ]
  },
  {
   "cell_type": "markdown",
   "metadata": {},
   "source": [
    "<div class=\"alert alert-success\">\n",
    "\n",
    "**Problem 1 (b).** Use the given function to convert these sequences to their amino-acid sequences, and then re-run alignment for all sequences with the default parameters for `affineGap`.\n",
    "</div>\n"
   ]
  },
  {
   "cell_type": "code",
   "execution_count": 31,
   "metadata": {},
   "outputs": [
    {
     "data": {
      "text/plain": [
       "'KCGV'"
      ]
     },
     "execution_count": 31,
     "metadata": {},
     "output_type": "execute_result"
    }
   ],
   "source": [
    "# Convert sequence of nucleotides to amino acids using codon table lookup\n",
    "# Example\n",
    "utils.convert_to_amino(\"AAATGCGGCGTA\")"
   ]
  },
  {
   "cell_type": "code",
   "execution_count": 32,
   "metadata": {},
   "outputs": [
    {
     "name": "stdout",
     "output_type": "stream",
     "text": [
      "VLTSKAVLRS-----------PSRAEVRTLNSL----L-----E------KDLQVR----RE----------KTGSGACIWRAETAGGTPARRRWSSCRRPCPADSLNLWPAS\n",
      "--pSgA--aSAC_EILHQGCAPS-----TtqSLWIWTLDFTAGERSASHQtD-QqRGHAPREQRHQAGLSRA--GS-----RA-----TP--------------D--------\n",
      "-13.799999999999999\n"
     ]
    }
   ],
   "source": [
    "# Your code here\n",
    "human_oca2_a = utils.convert_to_amino(human_oca2)\n",
    "mouse_oca2_a = utils.convert_to_amino(mouse_oca2)\n",
    "default_ag = showAlignmentG(human_oca2_a, mouse_oca2_a, affineGap, simpleMatch)"
   ]
  },
  {
   "cell_type": "markdown",
   "metadata": {},
   "source": [
    "## Part 2: Alignment with Amino-Acids"
   ]
  },
  {
   "cell_type": "markdown",
   "metadata": {},
   "source": [
    "\n",
    "The PAM<em>n</em> matrix (to be covered in [Class 6](https://computingbiology.github.io/class6/)) represents the likelihood of the occurrence of each tranformation during a time period where there are _n_ total mutation events per 100 amino acids."
   ]
  },
  {
   "cell_type": "markdown",
   "metadata": {},
   "source": [
    "<div class=\"alert alert-success\">\n",
    "\n",
    "**Problem 2 (a)** What would a negative value of an entry in a PAM 1 matrix $M$ indicate? Explain in terms of evolution and functionality of the proteins. Note that $M_{ij} = log(\\frac{q_{ij}}{p_ip_j})$ where $q_{ij}$ indicates the frequency of amino acids $i$ and $j$ observed to align in related sequences, and $p_i$ and $p_j$ represent the frequencies of occurrence of $i$ and $j$.\n",
    "</div>"
   ]
  },
  {
   "cell_type": "markdown",
   "metadata": {},
   "source": [
    "A negative log odd indicates that the ratio $\\frac{q_{ij}}{p_ip_j}$ is less than one; in other words, the corresponding transformation is unlikely. Because PAM matrices are constructed on real \n",
    "phylogenetic data, a negative entry suggests that natural selection rejected the transformation from acid $i$ to $j$. However, this evidence is not overwhelming because PAM 1 is only based on 1 mutation per 100 acids; entries within PAM 250, by contrast, offer a more convincing depiction of natural selection due to a repeated Markov process of sorts."
   ]
  },
  {
   "cell_type": "markdown",
   "metadata": {},
   "source": [
    "<div class=\"alert alert-success\">\n",
    "    \n",
    "**Problem 2 (b).** The BLOSUM<em>x</em> matices are created by clustering sequences with more than <em>x</em>% similarity into one single sequence and comparing sequences with more than <em>x</em>% divergence. Therefore, BLOSUM matrices are based on local alignments. Which of BLOSUM 50 and 60 contain more evoluationary divergence? \n",
    "    \n",
    "</div>"
   ]
  },
  {
   "cell_type": "markdown",
   "metadata": {},
   "source": [
    "BLOSUM50 was built with sequences having less than 50% similarity, while BLOSUM60 was built with sequences having less than 60% similarity (because overly similar sequences were clustered).\n",
    "As such, lower $x$ values indicate greater evolutionary divergence. "
   ]
  },
  {
   "cell_type": "markdown",
   "metadata": {},
   "source": [
    "<div class=\"alert alert-success\">\n",
    "\n",
    "**Problem 2 (c).** Use the BLOSUM62 matrix as your scoring function to perform global alignment on the amino-acid sequences using `linearGap` (default parameters).\n",
    "</div>"
   ]
  },
  {
   "cell_type": "code",
   "execution_count": 19,
   "metadata": {},
   "outputs": [],
   "source": [
    "blosum_matrix = bl.BLOSUM(62)"
   ]
  },
  {
   "cell_type": "code",
   "execution_count": 20,
   "metadata": {},
   "outputs": [
    {
     "data": {
      "text/plain": [
       "'VLTSKAVLRSPSRAEVRTLNSLLEKDLQVRREKTGSGACIWRAETAGGTPARRRWSSCRRPCPADSLNLWPAS'"
      ]
     },
     "execution_count": 20,
     "metadata": {},
     "output_type": "execute_result"
    }
   ],
   "source": [
    "utils.convert_to_amino(human_oca2)"
   ]
  },
  {
   "cell_type": "code",
   "execution_count": 21,
   "metadata": {},
   "outputs": [
    {
     "data": {
      "text/plain": [
       "'PSGAASAC_EILHQGCAPSTTQSLWIWTLDFTAGERSASHQTDQQRGHAPREQRHQAGLSRAGSRATPD'"
      ]
     },
     "execution_count": 21,
     "metadata": {},
     "output_type": "execute_result"
    }
   ],
   "source": [
    "utils.convert_to_amino(mouse_oca2)"
   ]
  },
  {
   "cell_type": "code",
   "execution_count": 22,
   "metadata": {},
   "outputs": [
    {
     "name": "stdout",
     "output_type": "stream",
     "text": [
      "VLTSKAVLRSPSRAEVRTLNSLLEKDLQVRREKTGSGACIWRAETAGGTPARRRWSSCRRPCPADSLNLWPAS\n",
      "----psgaaSac_eilhqgcapsttqslwiwtldftagersashqtdqqrghapreqrhqaglsragsratpd\n",
      "-71\n"
     ]
    }
   ],
   "source": [
    "# Your code here\n",
    "def showAlignmentWithScoring(s1, s2, m, gapPenalty, match):\n",
    "    r = readAlignmentG(s1, s2, m, gapPenalty, match)\n",
    "    print (r[0] + \"\\n\" + r[1] + \"\\n\" + str(r[2]))\n",
    "    return (m, r)\n",
    "\n",
    "blosumAlign = showAlignmentWithScoring(utils.convert_to_amino(human_oca2), utils.convert_to_amino(mouse_oca2), blosum_matrix, linearGap, simpleMatch)"
   ]
  },
  {
   "cell_type": "markdown",
   "metadata": {},
   "source": [
    "_Type your answer here_"
   ]
  },
  {
   "cell_type": "markdown",
   "metadata": {},
   "source": [
    "<div class=\"alert alert-success\">\n",
    "\n",
    "**Problem 2 (d).** How do your results for Problem 2c differ from the earlier ones of Problem 1a (with `linearGap`)? Which one would you say is more biologically plausible?\n",
    "</div>"
   ]
  },
  {
   "cell_type": "markdown",
   "metadata": {},
   "source": [
    "_Type your answer here_"
   ]
  },
  {
   "cell_type": "markdown",
   "metadata": {},
   "source": [
    "<div class=\"alert alert-success\">\n",
    "\n",
    "**Problem 2 (e).** We discussed in class that the PAM matrices follow the Markov property and a mismatch at any site depends only on the amino acid at that site and the transition probability. Is this a suitable representation of evolution? Think about if replacements are equaly likely to occur over entire sequences. It may help to consider the difference between PAM and BLOSUM matrices.\n",
    "</div>"
   ]
  },
  {
   "cell_type": "markdown",
   "metadata": {},
   "source": [
    "_Type your answer here_"
   ]
  },
  {
   "cell_type": "markdown",
   "metadata": {},
   "source": [
    "## Part 3: Local Sequence Alignment\n"
   ]
  },
  {
   "cell_type": "markdown",
   "metadata": {},
   "source": [
    "<div class=\"alert alert-success\">\n",
    "    \n",
    "<b>Problem 3 (a).</b> Implement local alignment (for both the normal and affine-gap penalties) using the Smith-Waterman algorithm. Feel free to re-use and modify the given Needleman–Wunsch algorithm. \n",
    "</div>"
   ]
  },
  {
   "cell_type": "code",
   "execution_count": 23,
   "metadata": {},
   "outputs": [],
   "source": [
    "def showAlignmentLocal(s1, s2, gapPenalty, match):\n",
    "    # Although it is often useful to return all high scoring local alignments for an input pair, \n",
    "    # it is sufficient if your algorithm just returns the single highest-scoring local alignment \n",
    "    # (as shown in the examples below).\n",
    "    \n",
    "    # Your code here (implement)\n",
    "    pass"
   ]
  },
  {
   "cell_type": "markdown",
   "metadata": {},
   "source": [
    "We've included some assert statements that can help you check the correctness of your algorithm. As with any algorithm, correctness on these test inputs does not guarantee algorithmic correcntess, but can be useful to debug."
   ]
  },
  {
   "cell_type": "code",
   "execution_count": 24,
   "metadata": {},
   "outputs": [],
   "source": [
    "# Example expected output\n",
    "# Taken from https://en.wikipedia.org/wiki/Smith–Waterman_algorithm)\n",
    "r = showAlignmentLocal(\"GGTTGACTA\", \"TGTTACGG\", linearGap, simpleMatch)"
   ]
  },
  {
   "cell_type": "code",
   "execution_count": 25,
   "metadata": {},
   "outputs": [
    {
     "ename": "TypeError",
     "evalue": "'NoneType' object is not subscriptable",
     "output_type": "error",
     "traceback": [
      "\u001b[0;31m---------------------------------------------------------------------------\u001b[0m",
      "\u001b[0;31mTypeError\u001b[0m                                 Traceback (most recent call last)",
      "\u001b[0;32m<ipython-input-25-8764db815abb>\u001b[0m in \u001b[0;36m<module>\u001b[0;34m\u001b[0m\n\u001b[1;32m      1\u001b[0m \u001b[0;31m# First assert\u001b[0m\u001b[0;34m\u001b[0m\u001b[0;34m\u001b[0m\u001b[0;34m\u001b[0m\u001b[0m\n\u001b[1;32m      2\u001b[0m \u001b[0mr\u001b[0m \u001b[0;34m=\u001b[0m \u001b[0mshowAlignmentLocal\u001b[0m\u001b[0;34m(\u001b[0m\u001b[0;34m\"GGTTGACTA\"\u001b[0m\u001b[0;34m,\u001b[0m \u001b[0;34m\"TGTTACGG\"\u001b[0m\u001b[0;34m,\u001b[0m \u001b[0mlinearGap\u001b[0m\u001b[0;34m,\u001b[0m \u001b[0msimpleMatch\u001b[0m\u001b[0;34m)\u001b[0m\u001b[0;34m\u001b[0m\u001b[0;34m\u001b[0m\u001b[0m\n\u001b[0;32m----> 3\u001b[0;31m \u001b[0;32massert\u001b[0m \u001b[0;34m(\u001b[0m\u001b[0mr\u001b[0m\u001b[0;34m[\u001b[0m\u001b[0;36m1\u001b[0m\u001b[0;34m]\u001b[0m\u001b[0;34m[\u001b[0m\u001b[0;36m2\u001b[0m\u001b[0;34m]\u001b[0m \u001b[0;34m==\u001b[0m \u001b[0;36m4\u001b[0m \u001b[0;32mand\u001b[0m \u001b[0;34m\"GTTGAC\"\u001b[0m \u001b[0;32min\u001b[0m \u001b[0mr\u001b[0m\u001b[0;34m[\u001b[0m\u001b[0;36m1\u001b[0m\u001b[0;34m]\u001b[0m \u001b[0;32mand\u001b[0m \u001b[0;34m\"GTT-AC\"\u001b[0m \u001b[0;32min\u001b[0m \u001b[0mr\u001b[0m\u001b[0;34m[\u001b[0m\u001b[0;36m1\u001b[0m\u001b[0;34m]\u001b[0m\u001b[0;34m)\u001b[0m\u001b[0;34m\u001b[0m\u001b[0;34m\u001b[0m\u001b[0m\n\u001b[0m\u001b[1;32m      4\u001b[0m \u001b[0;34m\u001b[0m\u001b[0m\n\u001b[1;32m      5\u001b[0m \u001b[0;31m# Second assert\u001b[0m\u001b[0;34m\u001b[0m\u001b[0;34m\u001b[0m\u001b[0;34m\u001b[0m\u001b[0m\n",
      "\u001b[0;31mTypeError\u001b[0m: 'NoneType' object is not subscriptable"
     ]
    }
   ],
   "source": [
    "# First assert\n",
    "r = showAlignmentLocal(\"GGTTGACTA\", \"TGTTACGG\", linearGap, simpleMatch)\n",
    "assert (r[1][2] == 4 and \"GTTGAC\" in r[1] and \"GTT-AC\" in r[1])\n",
    "\n",
    "# Second assert\n",
    "r = showAlignmentLocal(\"GGACTTAAATAGA\", \"TGTTGGTGATCCACGTGG\", linearGap, simpleMatch)\n",
    "assert (r[1][2] == 2 and \"GG\" == r[1][0] and \"GG\" == r[1][1])\n",
    "\n",
    "# Third assert\n",
    "r = showAlignmentLocal(\"TTGA\", \"GGCC\", linearGap, simpleMatch)\n",
    "assert (r[1][2] == 1 and \"G\" == r[1][0] and \"G\" == r[1][1])\n",
    "\n",
    "# Fourth assert\n",
    "r = showAlignmentLocal(\"TACGGGCCCGCTAC\", \"TAGCCCTATCGGTCA\", linearGap, simpleMatch)\n",
    "assert (r[1][2] == 4 and \"TA-CGG\" in r[1] and \"TATCGG\" in r[1])"
   ]
  },
  {
   "cell_type": "markdown",
   "metadata": {},
   "source": [
    "<div class=\"alert alert-success\">\n",
    "    \n",
    "<b>Problem 3 (b).</b> Align the provided hemoglobin genes for:\n",
    "    <ol>\n",
    "        <li>`polar bears` & `black bears`,</li>\n",
    "        <li>`humans` & `chimps`,</li>\n",
    "        <li>`polar bears` & `humans`, and</li>\n",
    "        <li>`black bears` & `chimps`.</li>\n",
    "    </ol>\n",
    "\n",
    "Use `linearGap`.\n",
    "    \n",
    "Take note of the scores you get. What do you notice?\n",
    "</div>"
   ]
  },
  {
   "cell_type": "code",
   "execution_count": null,
   "metadata": {},
   "outputs": [],
   "source": [
    "polar_bear, black_bear, human, chimp = utils.get_hemoglobin_sequences()"
   ]
  },
  {
   "cell_type": "code",
   "execution_count": null,
   "metadata": {},
   "outputs": [],
   "source": [
    "# Your code here"
   ]
  },
  {
   "cell_type": "markdown",
   "metadata": {},
   "source": [
    "_Type your answer here_"
   ]
  },
  {
   "cell_type": "markdown",
   "metadata": {},
   "source": [
    "<div class=\"alert alert-success\">\n",
    "\n",
    "<b>Problem 3 (c).</b> Use <a href=\"https://blast.ncbi.nlm.nih.gov/\">BLAST</a> for the above pairs of sequences. Carefully inspect the returned results to see if they are similar to the alignments you obtained above.\n",
    "</div>"
   ]
  },
  {
   "cell_type": "markdown",
   "metadata": {},
   "source": [
    "_Type your answer here_"
   ]
  },
  {
   "cell_type": "markdown",
   "metadata": {},
   "source": [
    "<div class=\"alert alert-success\">\n",
    "\n",
    "<b>Problem 3 (d).</b> Could you run an affine-gap-loss version of your local-alignment algorithm for the given sequences? How much time did BLAST take?\n",
    "Can you think of any optimizations you could make to make the affine-gap-loss version run faster- perhaps utilizing parallel processing or GPUs?\n",
    "</div>"
   ]
  },
  {
   "cell_type": "markdown",
   "metadata": {},
   "source": [
    "_Type your answer here_"
   ]
  },
  {
   "cell_type": "markdown",
   "metadata": {},
   "source": [
    "## Part 4: Phylogenetic Tree Reconstruction"
   ]
  },
  {
   "cell_type": "markdown",
   "metadata": {},
   "source": [
    "For this part, we'll briefly enter a fictional setup where you want to trace the evolution of Pokémon. The data is in the format of a two lists: one each for the sequences themselves, and names of the Pokémons."
   ]
  },
  {
   "cell_type": "markdown",
   "metadata": {},
   "source": [
    "<div class=\"alert alert-success\">\n",
    "    \n",
    "**Problem 4 (a).** Implement an algorithm for Phylogenetic Tree Reconstrution using the neighbor joining algorithm. Color intermediate nodes different from leaf nodes. Use given names as node labels in your visualization.\n",
    "    \n",
    "For computing the distances matrix, use affine-based gap-loss in your alignment score computations.\n",
    "    \n",
    "</div>"
   ]
  },
  {
   "cell_type": "markdown",
   "metadata": {},
   "source": [
    "You can either label intermediate nodes in the Phylogenetic tree such that they start with \"intermediate_\" and use the given functions below, or use your own nomenclature/way of handling those node, and modify the given helper functions accordingly."
   ]
  },
  {
   "cell_type": "code",
   "execution_count": null,
   "metadata": {},
   "outputs": [],
   "source": [
    "# Your code here"
   ]
  },
  {
   "cell_type": "markdown",
   "metadata": {},
   "source": [
    "We've provided a helper function to plot a given Phylogenetic tree"
   ]
  },
  {
   "cell_type": "code",
   "execution_count": null,
   "metadata": {},
   "outputs": [],
   "source": [
    "def construct_alignment(dist, names):\n",
    "    # Your code here (implement)\n",
    "    pass"
   ]
  },
  {
   "cell_type": "code",
   "execution_count": null,
   "metadata": {},
   "outputs": [],
   "source": [
    "def draw_graph_nice(G):\n",
    "    \"\"\"\n",
    "        Helper function to plot a given Phylogenetic tree.\n",
    "        Assumes intermediate node names start with 'intermediate_'\n",
    "    \"\"\"\n",
    "    nodes = list(G.nodes)\n",
    "    # Plot intermediate nodes smaller\n",
    "    sizes = [10 if \"intermediate_\" in x else 2000 for x in nodes]\n",
    "    labels = {}    \n",
    "    for node in nodes:\n",
    "        if not node.startswith(\"intermediate_\"):\n",
    "            labels[node] = node\n",
    "    fig, ax = plt.subplots(figsize=(15,15))\n",
    "    nx.draw_planar(G, node_size=sizes, with_labels=True, node_color = \"#ADD8E6\")"
   ]
  },
  {
   "cell_type": "markdown",
   "metadata": {},
   "source": [
    "Here's the visualization for the given example on Wikipedia to get a sense of what the output should look like. We use `networkx` for creating and managing the graphs."
   ]
  },
  {
   "cell_type": "code",
   "execution_count": null,
   "metadata": {},
   "outputs": [],
   "source": [
    "# Wikipedia example: https://en.wikipedia.org/wiki/Neighbor_joining\n",
    "distances = np.array([\n",
    "    [0, 5, 9, 9, 8],\n",
    "    [5, 0, 10, 10, 9],\n",
    "    [9, 10, 0, 8, 7],\n",
    "    [9, 10, 8, 0, 3],\n",
    "    [8, 9, 7, 3, 0]\n",
    "], dtype=float)\n",
    "\n",
    "seq_names = [\"a\", \"b\", \"c\", \"d\", \"e\"]\n",
    "G = construct_alignment(distances, seq_names)"
   ]
  },
  {
   "cell_type": "code",
   "execution_count": null,
   "metadata": {},
   "outputs": [],
   "source": [
    "draw_graph_nice(G)"
   ]
  },
  {
   "cell_type": "code",
   "execution_count": null,
   "metadata": {},
   "outputs": [],
   "source": [
    "# Get sequences\n",
    "sequences, seq_names = utils.get_sequences_for_ancestry()"
   ]
  },
  {
   "cell_type": "code",
   "execution_count": null,
   "metadata": {},
   "outputs": [],
   "source": [
    "# Your code here"
   ]
  },
  {
   "cell_type": "markdown",
   "metadata": {},
   "source": [
    "<div class=\"alert alert-success\">\n",
    "    \n",
    "**Problem 4 (b).** Given $n$ sequences each of roughly the same length $m$, what would the time complexity be for constructing such a phylogenetic tree? Can you think of any algorithms or heuristics that might make the process faster? \n",
    "    \n",
    "</div>"
   ]
  },
  {
   "cell_type": "markdown",
   "metadata": {},
   "source": [
    "_Type your answer here_"
   ]
  },
  {
   "cell_type": "markdown",
   "metadata": {},
   "source": [
    "<div class=\"alert alert-success\">\n",
    "\n",
    "**Problem 4 (c).** Assume a direct correlation between the distance between any two nodes and the number of years (in millions) between their evolution. Assuming `Grumpig` was the first Pokémon to evolve, when did life first come to be in the fictional scenario?\n",
    "</div>"
   ]
  },
  {
   "cell_type": "markdown",
   "metadata": {},
   "source": [
    "<div class=\"alert alert-warning\">\n",
    "\n",
    "For this part, feel free to use any of `networkx`'s in-built functions (or any graph-specific library you may have chosen for Problem 4).\n",
    "</div>"
   ]
  },
  {
   "cell_type": "code",
   "execution_count": null,
   "metadata": {},
   "outputs": [],
   "source": [
    "# Your code here"
   ]
  },
  {
   "cell_type": "code",
   "execution_count": null,
   "metadata": {},
   "outputs": [],
   "source": [
    "how_long_ago = \"???\" # Replace with your answer\n",
    "print(f\"Life evolved {how_long_ago} million years ago in the Pokémon world\")"
   ]
  },
  {
   "cell_type": "markdown",
   "metadata": {},
   "source": [
    "One way to test the robustness of such a tree reconstruction algorithm is to consider collection of nodes independently and see if the recontructed sub-trees match the bigger tree.\n",
    "\n",
    "<div class=\"alert alert-success\">\n",
    "    \n",
    "**Problem 4 (d).** Find an  edge between intermediate nodes with the largest weight in the phylogenetic tree and remove that edge- this will produce two disjoint cluster of nodes. Re-run your tree reconstruction algorithm on these two sets of Pokémons. Do your reconstructed tree match the larger phylogenetic tree?\n",
    "</div>"
   ]
  },
  {
   "cell_type": "markdown",
   "metadata": {},
   "source": [
    "<div class=\"alert alert-warning\">\n",
    "\n",
    "For this part, feel free to use any of `networkx`'s in-built functions (or any graph-specific library you may have chosen for Problem 4).\n",
    "</div>"
   ]
  },
  {
   "cell_type": "code",
   "execution_count": null,
   "metadata": {},
   "outputs": [],
   "source": [
    "# Your code here"
   ]
  },
  {
   "cell_type": "markdown",
   "metadata": {},
   "source": [
    "_Type your answer here_"
   ]
  },
  {
   "cell_type": "markdown",
   "metadata": {},
   "source": [
    "<div class=\"alert alert-success\">\n",
    "\n",
    "**Problem 4 (d).** Can you inspect the matrix of distances between the Pokémons and predict whether the reconstructed trees would always be unique? Why/why not?\n",
    "</div>"
   ]
  },
  {
   "cell_type": "markdown",
   "metadata": {},
   "source": [
    "_Type your answer here_"
   ]
  },
  {
   "cell_type": "markdown",
   "metadata": {},
   "source": [
    "## Part 5: Tracing Evolution"
   ]
  },
  {
   "cell_type": "markdown",
   "metadata": {},
   "source": [
    "<div class=\"alert alert-warning\">\n",
    "    This problem is a \"Challenge Problem\". This means it is a problem of unknown difficulty that might be quite challenging (unlike the earlier problems, we don't have a reference solution for this one, or a clear idea how hard it might be). We do hope all students will at least attempt this and that more ambitious students will work hard to solve it and learn interesting things by the attempt (whether or not it is successful), but not get frustrated if you can't get to the desired answer.  As a \"Challenge Problem\" it means that you shouldn't be worried if you are not able to solve this, though, and you can get full expected credit on this assignment without answering it.\n",
    "</div>\n",
    "\n",
    "\n",
    "Now that we can construct Phylogenetic trees using sequence alignment, we can attempt to construct these trees for different organisms and trace their evolution through time. You're given reads processed from a FASTA file for Hemoglobin Beta Proteins, which can be used to then trace evolution based on how similar their sequences are across organisms from different kingdoms. Each record has the following relevant information in Tuple format:\n",
    "\n",
    "`((uniprot identifier, full name, shortened name, group), (sequence))`\n",
    "\n",
    "As you may notice, running our nearest-neighbor reconstruction algorithm on this data will give a Phylogenetic tree that does not fully correspond to what we know about the evolution of these species."
   ]
  },
  {
   "cell_type": "markdown",
   "metadata": {},
   "source": [
    "<div class=\"alert alert-success\">\n",
    "    \n",
    "**Problem 8 (Challenge).** Construct a Phylogenetic Tree using the given sequences. Implement and use any tree-reconstruction method of your choice, and see if it works better than the nearest-neighbor method with a linear-gap penalty.\n",
    "    \n",
    "For visualization, use the short name to display in the evolution tree.\n",
    "    \n",
    "</div>\n",
    "    \n",
    "This is an open-ended question, and is inspired by https://www.mimuw.edu.pl/~lukaskoz/teaching/sad2/lab6/readme.html. You are free to use any approach to deal with the issue. Make sure you provide your code, along with any assumptions you may have."
   ]
  },
  {
   "cell_type": "code",
   "execution_count": null,
   "metadata": {},
   "outputs": [],
   "source": [
    "sequences = utils.get_sequences_for_tree()\n",
    "print(sequences[0])"
   ]
  },
  {
   "cell_type": "code",
   "execution_count": null,
   "metadata": {},
   "outputs": [],
   "source": [
    "# Your code here"
   ]
  },
  {
   "cell_type": "markdown",
   "metadata": {},
   "source": [
    "_Write a description of your algorithm, and things you learned from working on this here._"
   ]
  },
  {
   "cell_type": "markdown",
   "metadata": {},
   "source": [
    "_Type your answer here_"
   ]
  },
  {
   "cell_type": "markdown",
   "metadata": {},
   "source": [
    "<div class=\"alert alert-success\">\n",
    "    \n",
    "Is this (using Hemoglobin proteins) the best way to trace and visualize evolution? Why do you think it is useful, and what could the possible downsides of this be?\n",
    "    \n",
    "</div>"
   ]
  },
  {
   "cell_type": "markdown",
   "metadata": {},
   "source": [
    "_Type your answer here_"
   ]
  },
  {
   "cell_type": "markdown",
   "metadata": {},
   "source": [
    "   <div class=\"alert alert-block alert-danger\">\n",
    "    <center>\n",
    "      \n",
    "**End of Project 2!**\n",
    "        \n",
    "Remember to follow the submission directions above to submit your assignment.\n",
    "    \n",
    " </center>\n",
    " </div>"
   ]
  }
 ],
 "metadata": {
  "interpreter": {
   "hash": "84472160e2b844a33d80e075be3132bfe2565675498812d4ae3271c87f1aca37"
  },
  "kernelspec": {
   "display_name": "Python 3",
   "language": "python",
   "name": "python3"
  },
  "language_info": {
   "codemirror_mode": {
    "name": "ipython",
    "version": 3
   },
   "file_extension": ".py",
   "mimetype": "text/x-python",
   "name": "python",
   "nbconvert_exporter": "python",
   "pygments_lexer": "ipython3",
   "version": "3.8.3"
  }
 },
 "nbformat": 4,
 "nbformat_minor": 5
}
